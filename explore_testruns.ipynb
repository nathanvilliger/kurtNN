{
 "cells": [
  {
   "cell_type": "markdown",
   "metadata": {},
   "source": [
    "Explore data from the test run on Talapas. Namely, is excess kurtosis a reliable sign of differences between Gaussian and power law dispersal?"
   ]
  },
  {
   "cell_type": "code",
   "execution_count": 1,
   "metadata": {},
   "outputs": [],
   "source": [
    "import numpy as np\n",
    "import pandas as pd\n",
    "import matplotlib.pyplot as plt\n",
    "import seaborn as sns"
   ]
  },
  {
   "cell_type": "code",
   "execution_count": 2,
   "metadata": {},
   "outputs": [
    {
     "data": {
      "text/html": [
       "<div>\n",
       "<style scoped>\n",
       "    .dataframe tbody tr th:only-of-type {\n",
       "        vertical-align: middle;\n",
       "    }\n",
       "\n",
       "    .dataframe tbody tr th {\n",
       "        vertical-align: top;\n",
       "    }\n",
       "\n",
       "    .dataframe thead th {\n",
       "        text-align: right;\n",
       "    }\n",
       "</style>\n",
       "<table border=\"1\" class=\"dataframe\">\n",
       "  <thead>\n",
       "    <tr style=\"text-align: right;\">\n",
       "      <th></th>\n",
       "      <th>seed</th>\n",
       "      <th>PL_dispersal</th>\n",
       "      <th>capacity</th>\n",
       "      <th>habitat_width</th>\n",
       "      <th>sigma</th>\n",
       "      <th>kernel_exponent</th>\n",
       "      <th>mean_distance</th>\n",
       "      <th>sd_distance</th>\n",
       "      <th>max_distance</th>\n",
       "      <th>excess_kurtosis</th>\n",
       "    </tr>\n",
       "  </thead>\n",
       "  <tbody>\n",
       "    <tr>\n",
       "      <th>0</th>\n",
       "      <td>28240</td>\n",
       "      <td>False</td>\n",
       "      <td>10</td>\n",
       "      <td>50</td>\n",
       "      <td>0.2</td>\n",
       "      <td>1</td>\n",
       "      <td>0.31514</td>\n",
       "      <td>0.136993</td>\n",
       "      <td>0.998409</td>\n",
       "      <td>0.541625</td>\n",
       "    </tr>\n",
       "    <tr>\n",
       "      <th>1</th>\n",
       "      <td>52243</td>\n",
       "      <td>False</td>\n",
       "      <td>10</td>\n",
       "      <td>50</td>\n",
       "      <td>2.0</td>\n",
       "      <td>1</td>\n",
       "      <td>2.93477</td>\n",
       "      <td>1.327300</td>\n",
       "      <td>9.416730</td>\n",
       "      <td>0.398566</td>\n",
       "    </tr>\n",
       "    <tr>\n",
       "      <th>2</th>\n",
       "      <td>33897</td>\n",
       "      <td>False</td>\n",
       "      <td>10</td>\n",
       "      <td>50</td>\n",
       "      <td>2.0</td>\n",
       "      <td>1</td>\n",
       "      <td>2.92012</td>\n",
       "      <td>1.319400</td>\n",
       "      <td>10.330300</td>\n",
       "      <td>0.568407</td>\n",
       "    </tr>\n",
       "    <tr>\n",
       "      <th>3</th>\n",
       "      <td>38015</td>\n",
       "      <td>False</td>\n",
       "      <td>10</td>\n",
       "      <td>50</td>\n",
       "      <td>2.0</td>\n",
       "      <td>1</td>\n",
       "      <td>2.93816</td>\n",
       "      <td>1.325500</td>\n",
       "      <td>11.297000</td>\n",
       "      <td>0.494876</td>\n",
       "    </tr>\n",
       "    <tr>\n",
       "      <th>4</th>\n",
       "      <td>9995</td>\n",
       "      <td>False</td>\n",
       "      <td>10</td>\n",
       "      <td>50</td>\n",
       "      <td>2.0</td>\n",
       "      <td>1</td>\n",
       "      <td>2.92811</td>\n",
       "      <td>1.333910</td>\n",
       "      <td>9.942380</td>\n",
       "      <td>0.518232</td>\n",
       "    </tr>\n",
       "  </tbody>\n",
       "</table>\n",
       "</div>"
      ],
      "text/plain": [
       "    seed  PL_dispersal  capacity  habitat_width  sigma  kernel_exponent  \\\n",
       "0  28240         False        10             50    0.2                1   \n",
       "1  52243         False        10             50    2.0                1   \n",
       "2  33897         False        10             50    2.0                1   \n",
       "3  38015         False        10             50    2.0                1   \n",
       "4   9995         False        10             50    2.0                1   \n",
       "\n",
       "   mean_distance  sd_distance  max_distance  excess_kurtosis  \n",
       "0        0.31514     0.136993      0.998409         0.541625  \n",
       "1        2.93477     1.327300      9.416730         0.398566  \n",
       "2        2.92012     1.319400     10.330300         0.568407  \n",
       "3        2.93816     1.325500     11.297000         0.494876  \n",
       "4        2.92811     1.333910      9.942380         0.518232  "
      ]
     },
     "execution_count": 2,
     "metadata": {},
     "output_type": "execute_result"
    }
   ],
   "source": [
    "df = pd.read_csv('summary_testruns.csv')\n",
    "df.head()"
   ]
  },
  {
   "cell_type": "markdown",
   "metadata": {},
   "source": [
    "Each row is a summary from the final generation of short simulations. I ran these until `maxgens = 50` generations -- just enough to be pretty sure there's no one still alive from the initial generation. This gave what is assumed to be a representative sample of what dispersal distances would look like at any arbitrary time during longer simulations. I recorded landscape- and dispersal-related simulation parameters, computed some statistics related to the actualized dispersal distances of everyone alive in the final generation, and wrote everything to a log file at the end of simulations."
   ]
  },
  {
   "cell_type": "code",
   "execution_count": 3,
   "metadata": {},
   "outputs": [
    {
     "data": {
      "text/plain": [
       "600"
      ]
     },
     "execution_count": 3,
     "metadata": {},
     "output_type": "execute_result"
    }
   ],
   "source": [
    "len(df)"
   ]
  },
  {
   "cell_type": "code",
   "execution_count": 4,
   "metadata": {},
   "outputs": [
    {
     "data": {
      "text/plain": [
       "PL_dispersal  sigma  kernel_exponent\n",
       "False         0.2    1                  100\n",
       "              2.0    1                  100\n",
       "True          0.2    1                  100\n",
       "                     5                  100\n",
       "              2.0    1                  100\n",
       "                     5                  100\n",
       "dtype: int64"
      ]
     },
     "execution_count": 4,
     "metadata": {},
     "output_type": "execute_result"
    }
   ],
   "source": [
    "df.value_counts(['PL_dispersal', 'sigma', 'kernel_exponent'])"
   ]
  },
  {
   "cell_type": "markdown",
   "metadata": {},
   "source": [
    "100 samples each with Gaussian kernels having high and low sigma, then 100 samples each with broad and narrow PL kernels and each of the high and low sigma values. \n",
    "\n",
    "I sought to explore the edges of parameter space for these simulations. We previously discussed using sigma values between 0.2 and 2 for training models using the disperseNN architecture. That seems good to me, and populations consistently do not go extinct at those values (with $K=10$, $W=50$, and short simulations). I also used both of those extreme sigma values in simulations with power law dispersal by broad (kernel_exponent = 1) and narrow (kernel_exponent = 5) jump kernels."
   ]
  },
  {
   "cell_type": "markdown",
   "metadata": {},
   "source": [
    "So what does the kurtosis look like in Gaussian simulations?"
   ]
  },
  {
   "cell_type": "code",
   "execution_count": 5,
   "metadata": {},
   "outputs": [
    {
     "data": {
      "image/png": "[encoded data removed]",
      "text/plain": [
       "<Figure size 360x360 with 1 Axes>"
      ]
     },
     "metadata": {
      "needs_background": "light"
     },
     "output_type": "display_data"
    }
   ],
   "source": [
    "norm_sel = ~df.PL_dispersal\n",
    "g = sns.catplot(data=df[norm_sel], x='sigma', y='excess_kurtosis', kind='box');"
   ]
  },
  {
   "cell_type": "markdown",
   "metadata": {},
   "source": [
    "Excess kurtosis values are reliably less than one with Gaussian jump kernels, with some apparent dependence on the width of the kernel.\n",
    "\n",
    "How about results with PL jump kernels?"
   ]
  },
  {
   "cell_type": "code",
   "execution_count": 8,
   "metadata": {},
   "outputs": [
    {
     "data": {
      "image/png": "[encoded data removed]",
      "text/plain": [
       "<Figure size 571.875x500 with 1 Axes>"
      ]
     },
     "metadata": {},
     "output_type": "display_data"
    }
   ],
   "source": [
    "g = sns.catplot(data=df[df.PL_dispersal], x='kernel_exponent', hue='sigma', palette='deep', y='excess_kurtosis', kind='box');\n",
    "g.ax.set_yscale('log')\n",
    "g.refline(y=1)"
   ]
  },
  {
   "cell_type": "markdown",
   "metadata": {},
   "source": [
    "Consistently much greater than one with the broad jump kernels, but also almost always greater than one with the narrow jump kernels with kernel_exponent = 5. That's somewhat surprising because those populations should have *almost* all short-range dispersal, and the LDD events shouldn't be very long due to the narrow power law tail. The dynamics of those populations during range expansions look just like populations with Gaussian dispersal. "
   ]
  },
  {
   "cell_type": "markdown",
   "metadata": {},
   "source": [
    "Sample from the PL jump kernel. Do we observe significant outliers with narrow kernels?"
   ]
  },
  {
   "cell_type": "code",
   "execution_count": 44,
   "metadata": {},
   "outputs": [],
   "source": [
    "def sample_jk(exponent, sigma, N_samples=1e6, hist=False):\n",
    "    A = exponent / (exponent + 1)\n",
    "\n",
    "    Xvals = np.random.uniform(size=int(N_samples))\n",
    "    unif = Xvals <= A\n",
    "\n",
    "    distances = np.zeros_like(Xvals)\n",
    "    distances[unif] = Xvals[unif] * sigma / A\n",
    "    distances[~unif] = (sigma**(-exponent) * (A + A*exponent - Xvals[~unif]*exponent) / A)**(-1/exponent)\n",
    "    \n",
    "    if hist: \n",
    "        plt.hist(distances/sigma, bins=50, range=(0, 5), density=True) \n",
    "        plt.xlabel(r'rescaled dispersal distance $r/\\sigma$')\n",
    "    \n",
    "    return distances"
   ]
  },
  {
   "cell_type": "code",
   "execution_count": 54,
   "metadata": {},
   "outputs": [
    {
     "name": "stdout",
     "output_type": "stream",
     "text": [
      "mean distance: 0.62\n",
      "std distance: 0.40\n",
      "longest few: 5.06 4.33 4.18 4.10 3.69\n"
     ]
    },
    {
     "data": {
      "image/png": "[encoded data removed]",
      "text/plain": [
       "<Figure size 640x480 with 1 Axes>"
      ]
     },
     "metadata": {},
     "output_type": "display_data"
    }
   ],
   "source": [
    "draws = sample_jk(5, 1, N_samples=20000, hist=True)\n",
    "print(f'mean distance: {np.mean(draws):.2f}')\n",
    "print(f'std distance: {np.std(draws):.2f}')\n",
    "print('longest few:', *[f'{d:.2f}' for d in np.sort(draws)[-1:-6:-1]])"
   ]
  },
  {
   "cell_type": "markdown",
   "metadata": {},
   "source": [
    "Yes, maybe there would be enough draws significantly above the mean to cause a signal in the excess kurtosis."
   ]
  },
  {
   "cell_type": "markdown",
   "metadata": {},
   "source": [
    "Make a nice plot with everything together:"
   ]
  },
  {
   "cell_type": "code",
   "execution_count": 25,
   "metadata": {},
   "outputs": [
    {
     "data": {
      "image/png": "[encoded data removed]",
      "text/plain": [
       "<Figure size 1071.88x500 with 2 Axes>"
      ]
     },
     "metadata": {},
     "output_type": "display_data"
    }
   ],
   "source": [
    "g = sns.catplot(data=df, x='kernel_exponent', y='excess_kurtosis', hue='sigma', palette='deep', col='PL_dispersal', kind='box', sharex=False);\n",
    "[ax.set_yscale('log') for ax in g.axes.flatten()]\n",
    "g.refline(y=1)\n",
    "g.axes[0, 0].set_xticks([-0.2, 0.2], labels=['0.2', '2.0'])\n",
    "g.axes[0, 0].set_xlabel('sigma')\n",
    "[ax.set_title(t) for ax, t in zip(g.axes.flatten(), ['Gaussian dispersal', 'PL dispersal'])];"
   ]
  },
  {
   "cell_type": "markdown",
   "metadata": {},
   "source": [
    "**Possible directions** \n",
    "\n",
    "The dashed line at excess_kurtosis = 1 does a reasonably good job separating Gaussian from PL dispersal. The dynamics in populations with kernel_exponent = 5 should look just like populations with Gaussian dispersal, so it's somewhat surprising/concerning that those two data sets are on opposite sides of this proposed division. Nevertheless, I propose we train a model to predict three outputs:\n",
    "\n",
    "- mean dispersal distance\n",
    "\n",
    "- SD dispersal distance\n",
    "\n",
    "- yes/no LDD, where the training label is determined as yes/no excess kurtosis > 1 from dispersal distances of everyone alive in final generation of simulations\n",
    "\n",
    "This would lead to the populations with the narrow PL jump kernels being classified as yes LDD. **Downstream possibility**: train a second network using the disperseNN architecture to estimate the kernel exponent for populations classified as yes LDD. Maybe that could detect the narrowness of the jump kernel?"
   ]
  },
  {
   "cell_type": "markdown",
   "metadata": {},
   "source": [
    "So I'm proposing we run a bunch of simulations to hopefully get a proof of concept showing that this all works. Run simulations with:\n",
    "\n",
    "- Gaussian dispersal with sigma between 0.2 and 2\n",
    "\n",
    "- Power law dispersal with kernel exponents between 1 and 5 and sigma between 0.2 and 2\n",
    "\n",
    "And fix the following parameters:\n",
    "\n",
    "- $K=10$\n",
    "\n",
    "- $W=50$\n",
    "\n",
    "- `maxgens = 1e5`"
   ]
  },
  {
   "cell_type": "markdown",
   "metadata": {},
   "source": [
    "Record the following from each simulation:\n",
    "\n",
    "- tree sequences, to be used as input for the CNN\n",
    "\n",
    "- log file from final generation, as above, to provide training labels"
   ]
  },
  {
   "cell_type": "markdown",
   "metadata": {},
   "source": [
    "Proposed immediate next steps:\n",
    "\n",
    "- Get those simulations going. How many do we need? A few hundred each with Gaussian and PL dispersal?\n",
    "\n",
    "- Begin adapting disperseNN architecture to have multiple outputs. This should be simple? Maybe want to carefully consider the activation function for the yes/no LDD output stream so we can interpret it as a probability of yes LDD."
   ]
  },
  {
   "cell_type": "code",
   "execution_count": null,
   "metadata": {},
   "outputs": [],
   "source": []
  }
 ],
 "metadata": {
  "kernelspec": {
   "display_name": "Python 3",
   "language": "python",
   "name": "python3"
  },
  "language_info": {
   "codemirror_mode": {
    "name": "ipython",
    "version": 3
   },
   "file_extension": ".py",
   "mimetype": "text/x-python",
   "name": "python",
   "nbconvert_exporter": "python",
   "pygments_lexer": "ipython3",
   "version": "3.7.3"
  }
 },
 "nbformat": 4,
 "nbformat_minor": 2
}
